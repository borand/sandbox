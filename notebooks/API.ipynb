{
 "cells": [
  {
   "cell_type": "code",
   "execution_count": 2,
   "metadata": {
    "collapsed": false
   },
   "outputs": [],
   "source": [
    "import requests\n",
    "import json"
   ]
  },
  {
   "cell_type": "code",
   "execution_count": 30,
   "metadata": {
    "collapsed": false
   },
   "outputs": [
    {
     "name": "stdout",
     "output_type": "stream",
     "text": [
      "ACCEPTED : value accepted and saved\n"
     ]
    }
   ],
   "source": [
    "# Submit data value\n",
    "out = requests.get('http://192.168.1.13:8000/submit/now/sn/0/val/0.1')\n",
    "if out.ok:\n",
    "    data = out.json()\n",
    "    if data['accepted']:\n",
    "        pass\n",
    "\n",
    "print(\"{0} : {1}\".format(data['status'],data['msg']))"
   ]
  },
  {
   "cell_type": "code",
   "execution_count": 34,
   "metadata": {
    "collapsed": false
   },
   "outputs": [
    {
     "name": "stdout",
     "output_type": "stream",
     "text": [
      "ACCEPTED : value accepted and saved\n"
     ]
    }
   ],
   "source": [
    "# Submit data obj\n",
    "out = requests.get('http://192.168.1.13:5000/submit/now/sn/0/obj/[0.1,\\\"test\\\"]')\n",
    "if out.ok:\n",
    "    data = out.json()\n",
    "    if data['accepted']:\n",
    "        pass\n",
    "\n",
    "print(\"{0} : {1}\".format(data['status'],data['msg']))"
   ]
  },
  {
   "cell_type": "code",
   "execution_count": 42,
   "metadata": {
    "collapsed": false
   },
   "outputs": [],
   "source": [
    "out = requests.get('http://192.168.1.13:8000/data/api/get/sn/40.22.61.83.2.0.0.128/today/').json()"
   ]
  },
  {
   "cell_type": "code",
   "execution_count": 43,
   "metadata": {
    "collapsed": false
   },
   "outputs": [
    {
     "data": {
      "text/plain": [
       "{u'data': [[1464661973, 21.0625],\n",
       "  [1464661990, 21.0625],\n",
       "  [1464662006, 21.0625],\n",
       "  [1464662022, 21.0625]],\n",
       " u'name': u'40.22.61.83.2.0.0.128',\n",
       " u'query_time': 0.0045168399810791016,\n",
       " u'serial_number': u'40.22.61.83.2.0.0.128',\n",
       " u'today': u'today'}"
      ]
     },
     "execution_count": 43,
     "metadata": {},
     "output_type": "execute_result"
    }
   ],
   "source": [
    "out"
   ]
  }
 ],
 "metadata": {
  "kernelspec": {
   "display_name": "Python 2",
   "language": "python",
   "name": "python2"
  },
  "language_info": {
   "codemirror_mode": {
    "name": "ipython",
    "version": 2
   },
   "file_extension": ".py",
   "mimetype": "text/x-python",
   "name": "python",
   "nbconvert_exporter": "python",
   "pygments_lexer": "ipython2",
   "version": "2.7.6"
  }
 },
 "nbformat": 4,
 "nbformat_minor": 0
}
