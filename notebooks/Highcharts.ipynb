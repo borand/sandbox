{
 "cells": [
  {
   "cell_type": "code",
   "execution_count": 102,
   "metadata": {
    "collapsed": false
   },
   "outputs": [],
   "source": [
    "import datetime\n",
    "import os\n",
    "import json\n",
    "import requests\n",
    "import pandas as pd\n",
    "import numpy as np\n",
    "from IPython.display import display, display_pretty, Javascript, HTML\n",
    "from pandas_highcharts.display import display_charts\n",
    "from pandas_highcharts.core import serialize\n",
    "from pandas.compat import StringIO\n",
    "from pandas.io.common import urlopen\n"
   ]
  },
  {
   "cell_type": "code",
   "execution_count": 218,
   "metadata": {
    "collapsed": false
   },
   "outputs": [
    {
     "name": "stdout",
     "output_type": "stream",
     "text": [
      "2016-06-01 02:54:35\n"
     ]
    },
    {
     "data": {
      "text/html": [
       "<div id=\"chart_idYyTSUdoz\"</div>\n",
       "    <script type=\"text/javascript\">new Highcharts.StockChart({\"title\":{\"text\":\"Power vs. Time\"},\"series\":[{\"data\":[[1464749675000.0,22.9375],[1464753277000.0,22.8125],[1464755799000.0,22.5625],[1464759401000.0,22.375],[1464763004000.0,22.1875],[1464766606000.0,22.0],[1464770209000.0,21.875],[1464773582000.0,21.625],[1464777185000.0,21.75]],\"name\":0,\"yAxis\":0}],\"yAxis\":[{}],\"chart\":{\"renderTo\":\"chart_idYyTSUdoz\"},\"xAxis\":{},\"legend\":{\"enabled\":true}});</script>"
      ],
      "text/plain": [
       "<IPython.core.display.HTML object>"
      ]
     },
     "metadata": {},
     "output_type": "display_data"
    }
   ],
   "source": [
    "sn = '40.22.61.83.2.0.0.128'\n",
    "sn = '40.178.105.83.2.0.0.138'\n",
    "#sn = 'hydro_power'\n",
    "data = requests.get('http://127.0.0.1:8000/data/api/get/sn/{0}/'.format(sn)).json()\n",
    "ar  = np.array(data['data'])\n",
    "t   = ar[:,0]*1000\n",
    "v   = ar[:,1]\n",
    "df  = pd.DataFrame(v, index=t)\n",
    "\n",
    "ar[1,0]\n",
    "import datetime\n",
    "print datetime.datetime.fromtimestamp(ar[0,0]).strftime('%Y-%m-%d %H:%M:%S')\n",
    "\n",
    "chart = serialize(df, render_to='my-chart', output_type='json', chart_type=\"stock\")\n",
    "chart_obj = json.loads(chart)\n",
    "display_charts(df, chart_type=\"stock\", title=\"Power vs. Time\")"
   ]
  },
  {
   "cell_type": "code",
   "execution_count": 214,
   "metadata": {
    "collapsed": false
   },
   "outputs": [
    {
     "name": "stdout",
     "output_type": "stream",
     "text": [
      "2016-06-01 03:18:31\n"
     ]
    }
   ],
   "source": [
    "to = int(chart_obj['series'][0]['data'][0][0]/1000)\n",
    "print datetime.datetime.fromtimestamp(to).strftime('%Y-%m-%d %H:%M:%S')"
   ]
  }
 ],
 "metadata": {
  "kernelspec": {
   "display_name": "Python 2",
   "language": "python",
   "name": "python2"
  },
  "language_info": {
   "codemirror_mode": {
    "name": "ipython",
    "version": 2
   },
   "file_extension": ".py",
   "mimetype": "text/x-python",
   "name": "python",
   "nbconvert_exporter": "python",
   "pygments_lexer": "ipython2",
   "version": "2.7.3"
  }
 },
 "nbformat": 4,
 "nbformat_minor": 0
}
